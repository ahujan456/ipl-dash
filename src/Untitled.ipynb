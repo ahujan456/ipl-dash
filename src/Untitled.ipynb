{
 "cells": [
  {
   "cell_type": "code",
   "execution_count": 2,
   "id": "aa650dd4-ad83-4b16-b8a6-a8113dad131b",
   "metadata": {},
   "outputs": [],
   "source": [
    "import pandas as pd\n",
    "import numpy as np"
   ]
  },
  {
   "cell_type": "code",
   "execution_count": 6,
   "id": "d98bb6f7-c6b8-4e3d-bc7a-bf07cb556261",
   "metadata": {},
   "outputs": [],
   "source": [
    "df = pd.read_csv(\"D:\\ipl-dashboard\\data\\deliveries.csv\")\n",
    "df_copy = pd.read_csv(\"D:\\ipl-dashboard\\data\\deliveries.csv\")"
   ]
  },
  {
   "cell_type": "code",
   "execution_count": 7,
   "id": "b69cbbad-ed18-460e-a84b-c7c0936592f4",
   "metadata": {},
   "outputs": [
    {
     "data": {
      "text/html": [
       "<div>\n",
       "<style scoped>\n",
       "    .dataframe tbody tr th:only-of-type {\n",
       "        vertical-align: middle;\n",
       "    }\n",
       "\n",
       "    .dataframe tbody tr th {\n",
       "        vertical-align: top;\n",
       "    }\n",
       "\n",
       "    .dataframe thead th {\n",
       "        text-align: right;\n",
       "    }\n",
       "</style>\n",
       "<table border=\"1\" class=\"dataframe\">\n",
       "  <thead>\n",
       "    <tr style=\"text-align: right;\">\n",
       "      <th></th>\n",
       "      <th>match_id</th>\n",
       "      <th>inning</th>\n",
       "      <th>batting_team</th>\n",
       "      <th>bowling_team</th>\n",
       "      <th>over</th>\n",
       "      <th>ball</th>\n",
       "      <th>batter</th>\n",
       "      <th>bowler</th>\n",
       "      <th>non_striker</th>\n",
       "      <th>batsman_runs</th>\n",
       "      <th>extra_runs</th>\n",
       "      <th>total_runs</th>\n",
       "      <th>extras_type</th>\n",
       "      <th>is_wicket</th>\n",
       "      <th>player_dismissed</th>\n",
       "      <th>dismissal_kind</th>\n",
       "      <th>fielder</th>\n",
       "    </tr>\n",
       "  </thead>\n",
       "  <tbody>\n",
       "    <tr>\n",
       "      <th>0</th>\n",
       "      <td>335982</td>\n",
       "      <td>1</td>\n",
       "      <td>Kolkata Knight Riders</td>\n",
       "      <td>Royal Challengers Bangalore</td>\n",
       "      <td>0</td>\n",
       "      <td>1</td>\n",
       "      <td>SC Ganguly</td>\n",
       "      <td>P Kumar</td>\n",
       "      <td>BB McCullum</td>\n",
       "      <td>0</td>\n",
       "      <td>1</td>\n",
       "      <td>1</td>\n",
       "      <td>legbyes</td>\n",
       "      <td>0</td>\n",
       "      <td>NaN</td>\n",
       "      <td>NaN</td>\n",
       "      <td>NaN</td>\n",
       "    </tr>\n",
       "    <tr>\n",
       "      <th>1</th>\n",
       "      <td>335982</td>\n",
       "      <td>1</td>\n",
       "      <td>Kolkata Knight Riders</td>\n",
       "      <td>Royal Challengers Bangalore</td>\n",
       "      <td>0</td>\n",
       "      <td>2</td>\n",
       "      <td>BB McCullum</td>\n",
       "      <td>P Kumar</td>\n",
       "      <td>SC Ganguly</td>\n",
       "      <td>0</td>\n",
       "      <td>0</td>\n",
       "      <td>0</td>\n",
       "      <td>NaN</td>\n",
       "      <td>0</td>\n",
       "      <td>NaN</td>\n",
       "      <td>NaN</td>\n",
       "      <td>NaN</td>\n",
       "    </tr>\n",
       "    <tr>\n",
       "      <th>2</th>\n",
       "      <td>335982</td>\n",
       "      <td>1</td>\n",
       "      <td>Kolkata Knight Riders</td>\n",
       "      <td>Royal Challengers Bangalore</td>\n",
       "      <td>0</td>\n",
       "      <td>3</td>\n",
       "      <td>BB McCullum</td>\n",
       "      <td>P Kumar</td>\n",
       "      <td>SC Ganguly</td>\n",
       "      <td>0</td>\n",
       "      <td>1</td>\n",
       "      <td>1</td>\n",
       "      <td>wides</td>\n",
       "      <td>0</td>\n",
       "      <td>NaN</td>\n",
       "      <td>NaN</td>\n",
       "      <td>NaN</td>\n",
       "    </tr>\n",
       "    <tr>\n",
       "      <th>3</th>\n",
       "      <td>335982</td>\n",
       "      <td>1</td>\n",
       "      <td>Kolkata Knight Riders</td>\n",
       "      <td>Royal Challengers Bangalore</td>\n",
       "      <td>0</td>\n",
       "      <td>4</td>\n",
       "      <td>BB McCullum</td>\n",
       "      <td>P Kumar</td>\n",
       "      <td>SC Ganguly</td>\n",
       "      <td>0</td>\n",
       "      <td>0</td>\n",
       "      <td>0</td>\n",
       "      <td>NaN</td>\n",
       "      <td>0</td>\n",
       "      <td>NaN</td>\n",
       "      <td>NaN</td>\n",
       "      <td>NaN</td>\n",
       "    </tr>\n",
       "    <tr>\n",
       "      <th>4</th>\n",
       "      <td>335982</td>\n",
       "      <td>1</td>\n",
       "      <td>Kolkata Knight Riders</td>\n",
       "      <td>Royal Challengers Bangalore</td>\n",
       "      <td>0</td>\n",
       "      <td>5</td>\n",
       "      <td>BB McCullum</td>\n",
       "      <td>P Kumar</td>\n",
       "      <td>SC Ganguly</td>\n",
       "      <td>0</td>\n",
       "      <td>0</td>\n",
       "      <td>0</td>\n",
       "      <td>NaN</td>\n",
       "      <td>0</td>\n",
       "      <td>NaN</td>\n",
       "      <td>NaN</td>\n",
       "      <td>NaN</td>\n",
       "    </tr>\n",
       "  </tbody>\n",
       "</table>\n",
       "</div>"
      ],
      "text/plain": [
       "   match_id  inning           batting_team                 bowling_team  over  \\\n",
       "0    335982       1  Kolkata Knight Riders  Royal Challengers Bangalore     0   \n",
       "1    335982       1  Kolkata Knight Riders  Royal Challengers Bangalore     0   \n",
       "2    335982       1  Kolkata Knight Riders  Royal Challengers Bangalore     0   \n",
       "3    335982       1  Kolkata Knight Riders  Royal Challengers Bangalore     0   \n",
       "4    335982       1  Kolkata Knight Riders  Royal Challengers Bangalore     0   \n",
       "\n",
       "   ball       batter   bowler  non_striker  batsman_runs  extra_runs  \\\n",
       "0     1   SC Ganguly  P Kumar  BB McCullum             0           1   \n",
       "1     2  BB McCullum  P Kumar   SC Ganguly             0           0   \n",
       "2     3  BB McCullum  P Kumar   SC Ganguly             0           1   \n",
       "3     4  BB McCullum  P Kumar   SC Ganguly             0           0   \n",
       "4     5  BB McCullum  P Kumar   SC Ganguly             0           0   \n",
       "\n",
       "   total_runs extras_type  is_wicket player_dismissed dismissal_kind fielder  \n",
       "0           1     legbyes          0              NaN            NaN     NaN  \n",
       "1           0         NaN          0              NaN            NaN     NaN  \n",
       "2           1       wides          0              NaN            NaN     NaN  \n",
       "3           0         NaN          0              NaN            NaN     NaN  \n",
       "4           0         NaN          0              NaN            NaN     NaN  "
      ]
     },
     "execution_count": 7,
     "metadata": {},
     "output_type": "execute_result"
    }
   ],
   "source": [
    "df.head()"
   ]
  },
  {
   "cell_type": "code",
   "execution_count": 8,
   "id": "16b442a2-c166-4e01-b612-dca06d7013dc",
   "metadata": {},
   "outputs": [
    {
     "data": {
      "text/plain": [
       "fielder\n",
       "MS Dhoni            220\n",
       "KD Karthik          199\n",
       "AB de Villiers      141\n",
       "RV Uthappa          133\n",
       "WP Saha             131\n",
       "                   ... \n",
       "TS Mills              1\n",
       "Ankit Soni            1\n",
       "WPUJC Vaas            1\n",
       "B Laughlin            1\n",
       "T Kohler-Cadmore      1\n",
       "Name: count, Length: 607, dtype: int64"
      ]
     },
     "execution_count": 8,
     "metadata": {},
     "output_type": "execute_result"
    }
   ],
   "source": [
    "df['fielder'].value_counts()"
   ]
  },
  {
   "cell_type": "markdown",
   "id": "f81ee73f-a6e6-422e-9e87-2249c49139e1",
   "metadata": {},
   "source": [
    "## Dirty Data\n",
    "\n",
    "### batting_team\n",
    "- Royal Challengers Bangalore & Royal Challengers Bengaluru\n",
    "- Rising Pune Supergiant & Rising Pune Supergiants\n",
    "### same with bowling_team\n"
   ]
  },
  {
   "cell_type": "code",
   "execution_count": 9,
   "id": "3d667601-602b-44d7-af63-a85c30b36b26",
   "metadata": {},
   "outputs": [],
   "source": [
    "tdf = df[df['batting_team'] == 'Royal Challengers Bengaluru']"
   ]
  },
  {
   "cell_type": "code",
   "execution_count": 10,
   "id": "fcf7879b-b5c8-4d1d-938d-ad0d513eb6fa",
   "metadata": {},
   "outputs": [],
   "source": [
    "df.loc[tdf.index, 'batting_team'] = 'Royal Challengers Bangalore'"
   ]
  },
  {
   "cell_type": "code",
   "execution_count": 11,
   "id": "2f2d522f-c2f3-41b3-b34e-a25156f656d3",
   "metadata": {},
   "outputs": [],
   "source": [
    "tdf = df[df['batting_team'] == 'Rising Pune Supergiant']\n"
   ]
  },
  {
   "cell_type": "code",
   "execution_count": 12,
   "id": "09f52699-66a8-4a8a-8fdd-e8509860a10e",
   "metadata": {},
   "outputs": [],
   "source": [
    "df.loc[tdf.index, 'batting_team'] = 'Rising Pune Supergiants'"
   ]
  },
  {
   "cell_type": "code",
   "execution_count": 13,
   "id": "235b0d96-7420-4181-9285-f6d5c13fe015",
   "metadata": {},
   "outputs": [
    {
     "data": {
      "text/plain": [
       "batting_team\n",
       "Mumbai Indians                 31437\n",
       "Royal Challengers Bangalore    30023\n",
       "Kolkata Knight Riders          29514\n",
       "Chennai Super Kings            28651\n",
       "Rajasthan Royals               26242\n",
       "Kings XI Punjab                22646\n",
       "Sunrisers Hyderabad            21843\n",
       "Delhi Daredevils               18786\n",
       "Delhi Capitals                 10946\n",
       "Deccan Chargers                 9034\n",
       "Punjab Kings                    6833\n",
       "Gujarat Titans                  5494\n",
       "Pune Warriors                   5443\n",
       "Lucknow Super Giants            5400\n",
       "Gujarat Lions                   3566\n",
       "Rising Pune Supergiants         3480\n",
       "Kochi Tuskers Kerala            1582\n",
       "Name: count, dtype: int64"
      ]
     },
     "execution_count": 13,
     "metadata": {},
     "output_type": "execute_result"
    }
   ],
   "source": [
    "df['batting_team'].value_counts()"
   ]
  },
  {
   "cell_type": "code",
   "execution_count": 14,
   "id": "9ed81db5-6454-4f4c-baf4-6d187bfc4b94",
   "metadata": {},
   "outputs": [],
   "source": [
    "tdf = df[df['bowling_team'] == 'Royal Challengers Bengaluru']"
   ]
  },
  {
   "cell_type": "code",
   "execution_count": 15,
   "id": "ab06117b-f412-4557-9f5a-c7c3968c20ec",
   "metadata": {},
   "outputs": [],
   "source": [
    "df.loc[tdf.index, 'bowling_team'] = 'Royal Challengers Bangalore'"
   ]
  },
  {
   "cell_type": "code",
   "execution_count": 16,
   "id": "a8c27fc5-ac06-4a5a-9861-94b8dfb5c245",
   "metadata": {},
   "outputs": [],
   "source": [
    "tdf = df[df['bowling_team'] == 'Rising Pune Supergiant']"
   ]
  },
  {
   "cell_type": "code",
   "execution_count": 17,
   "id": "e3d718d1-1a4c-4ca3-85d0-403172b34b50",
   "metadata": {},
   "outputs": [],
   "source": [
    "df.loc[tdf.index, 'batting_team'] = 'Rising Pune Supergiants'"
   ]
  },
  {
   "cell_type": "code",
   "execution_count": 18,
   "id": "d4faa930-4546-4299-9cd5-cc0edceb7853",
   "metadata": {},
   "outputs": [],
   "source": [
    "df.to_csv(\"D:\\ipl-dashboard\\data\\deliveries_edited.csv\")"
   ]
  },
  {
   "cell_type": "code",
   "execution_count": null,
   "id": "31a7f24d-d5d4-4bc1-a36f-fe3ae0ec5ebf",
   "metadata": {},
   "outputs": [],
   "source": []
  }
 ],
 "metadata": {
  "kernelspec": {
   "display_name": "Python 3 (ipykernel)",
   "language": "python",
   "name": "python3"
  },
  "language_info": {
   "codemirror_mode": {
    "name": "ipython",
    "version": 3
   },
   "file_extension": ".py",
   "mimetype": "text/x-python",
   "name": "python",
   "nbconvert_exporter": "python",
   "pygments_lexer": "ipython3",
   "version": "3.11.3"
  }
 },
 "nbformat": 4,
 "nbformat_minor": 5
}
